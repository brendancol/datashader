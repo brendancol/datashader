{
 "cells": [
  {
   "cell_type": "markdown",
   "metadata": {},
   "source": [
    "# 8. Geography\n",
    "\n",
    "Datashader contains a `geo` module which contains helper functions which should be familiar to the geospatial community.\n",
    "\n",
    "* [Hillshade](#ds.geo---hillshade-function)\n",
    "* [Slope](#ds.geo---slope-function)\n",
    "* [Aspect](#ds.geo---aspect-function)\n",
    "* [NDVI](#ds.geo---ndvi-function)\n",
    "* [Mean](#ds.geo---mean-function)"
   ]
  },
  {
   "cell_type": "code",
   "execution_count": null,
   "metadata": {},
   "outputs": [],
   "source": [
    "from datashader import Canvas\n",
    "from datashader.transfer_functions import shade, stack"
   ]
  },
  {
   "cell_type": "markdown",
   "metadata": {},
   "source": [
    "## Generate Terrain Data"
   ]
  },
  {
   "cell_type": "code",
   "execution_count": null,
   "metadata": {},
   "outputs": [],
   "source": [
    "from datashader.geo import generate_terrain\n",
    "from datashader.colors import Elevation\n",
    "\n",
    "W = 700\n",
    "H = 700\n",
    "terrain = generate_terrain(W, H)\n",
    "cvs = Canvas(plot_width=W, plot_height=H)\n",
    "shade(terrain, cmap=Elevation, how='linear')"
   ]
  },
  {
   "cell_type": "markdown",
   "metadata": {},
   "source": [
    "## Hillshade\n",
    "* Burrough, P. A., and McDonell, R. A., 1998. *Principles of Geographical Information Systems* (Oxford University Press, New York), pp 406\n",
    "\n",
    "[Hillshade](https://en.wikipedia.org/wiki/Terrain_cartography) is a technique used to visualize terrain as shaded relief, illuminating it with a hypothetical light source. The illumination value for each cell is determined by its orientation to the light source, which is based on slope and aspect."
   ]
  },
  {
   "cell_type": "code",
   "execution_count": null,
   "metadata": {},
   "outputs": [],
   "source": [
    "from datashader.geo import hillshade\n",
    "\n",
    "cvs = Canvas(plot_width=W, plot_height=H)\n",
    "illuminated = hillshade(terrain, 225, 25)\n",
    "\n",
    "stack(\n",
    "    shade(illuminated, cmap=['gray', 'white'], alpha=255, how='linear'),\n",
    "    shade(terrain, cmap=Elevation, how='linear', alpha=128)\n",
    ")"
   ]
  },
  {
   "cell_type": "markdown",
   "metadata": {},
   "source": [
    "## Slope\n",
    "* Burrough, P. A., and McDonell, R. A., 1998. *Principles of Geographical Information Systems* (Oxford University Press, New York), pp 406\n",
    "\n",
    "[Slope](https://en.wikipedia.org/wiki/Slope) is the inclination of a surface. \n",
    "In geography, *slope* is amount of change in elevation of a terrain regarding its surroundings."
   ]
  },
  {
   "cell_type": "code",
   "execution_count": null,
   "metadata": {},
   "outputs": [],
   "source": [
    "from datashader.geo import slope\n",
    "\n",
    "cvs = Canvas(plot_width=W, plot_height=H)\n",
    "\n",
    "avalanche_slope_risk = slope(terrain)\n",
    "avalanche_slope_risk.data[avalanche_slope_risk.data <= 35] = 0\n",
    "avalanche_slope_risk.data[avalanche_slope_risk.data > 35] = 1\n",
    "\n",
    "stack(\n",
    "    shade(terrain, cmap=Elevation, how='linear'),\n",
    "    shade(illuminated, cmap=['black', 'white'], alpha=128, how='linear'),\n",
    "    shade(avalanche_slope_risk, cmap=['white', 'red'], alpha=45), \n",
    ")"
   ]
  },
  {
   "cell_type": "markdown",
   "metadata": {},
   "source": [
    "## Aspect\n",
    "* Burrough, P. A., and McDonell, R. A., 1998. *Principles of Geographical Information Systems* (Oxford University Press, New York), pp 406\n",
    "\n",
    "[Aspect](https://en.wikipedia.org/wiki/Aspect_(geography)) is the orientation of slope, measured clockwise in degrees from 0 to 360, where 0 is north-facing, 90 is east-facing, 180 is south-facing, and 270 is west-facing."
   ]
  },
  {
   "cell_type": "code",
   "execution_count": null,
   "metadata": {},
   "outputs": [],
   "source": [
    "from datashader.geo import aspect\n",
    "\n",
    "cvs = ds.Canvas(plot_width=W, plot_height=H)\n",
    "\n",
    "avalanche_aspect_risk = aspect(terrain)\n",
    "avalanche_aspect_risk.data[avalanche_aspect_risk.data < 135] = 1\n",
    "avalanche_aspect_risk.data[avalanche_aspect_risk.data > 135] = 0\n",
    "\n",
    "stack(\n",
    "    shade(terrain, cmap=Elevation, how='linear'),\n",
    "    shade(illuminated, cmap=['black', 'white'], alpha=128, how='linear'),\n",
    "    shade(avalanche_aspect_risk, cmap=['white', 'red'], alpha=45), \n",
    ")"
   ]
  },
  {
   "cell_type": "markdown",
   "metadata": {},
   "source": [
    "## NDVI\n",
    "* Burrough, P. A., and McDonell, R. A., 1998. *Principles of Geographical Information Systems* (Oxford University Press, New York), pp 406\n",
    "\n",
    "The Normalized Difference Vegetation Index (NDVI) quantifies vegetation by measuring the difference between near-infrared (which vegetation strongly reflects) and red light (which vegetation absorbs).\n",
    "NDVI always ranges from -1 to +1. But there isn’t a distinct boundary for each type of land cover.\n",
    "For example, when you have negative values, it’s highly likely that it’s water. On the other hand, if you have a NDVI value close to +1, there’s a high possibility that it’s dense green leaves.\n",
    "But when NDVI is close to zero, there isn’t green leaves and it could even be an urbanized area."
   ]
  },
  {
   "cell_type": "markdown",
   "metadata": {},
   "source": [
    "The output of *NDVI* ranges from [-1,+1], where `-1` means more \"Red\" radiation while `+1` means more \"NIR\" radiation as observed by Landsat. A higher NIR radiation trace the presence of vegetation."
   ]
  },
  {
   "cell_type": "code",
   "execution_count": null,
   "metadata": {
    "collapsed": true
   },
   "outputs": [],
   "source": [
    "from datashader.geo import ndvi"
   ]
  },
  {
   "cell_type": "code",
   "execution_count": null,
   "metadata": {
    "collapsed": true
   },
   "outputs": [],
   "source": []
  }
 ],
 "metadata": {
  "kernelspec": {
   "display_name": "Python 3",
   "language": "python",
   "name": "python3"
  },
  "language_info": {
   "codemirror_mode": {
    "name": "ipython",
    "version": 3
   },
   "file_extension": ".py",
   "mimetype": "text/x-python",
   "name": "python",
   "nbconvert_exporter": "python",
   "pygments_lexer": "ipython3",
   "version": "3.6.2"
  }
 },
 "nbformat": 4,
 "nbformat_minor": 2
}
