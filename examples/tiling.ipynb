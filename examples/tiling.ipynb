{
 "cells": [
  {
   "cell_type": "markdown",
   "metadata": {},
   "source": [
    "## Building Tilesets using Datashader"
   ]
  },
  {
   "cell_type": "markdown",
   "metadata": {},
   "source": [
    "Datashader provides `render_tiles` which is a utility function for creating tilesets from arbitrary datashader pipelines."
   ]
  },
  {
   "cell_type": "code",
   "execution_count": null,
   "metadata": {},
   "outputs": [],
   "source": [
    "from datashader.tiles import render_tiles"
   ]
  },
  {
   "cell_type": "markdown",
   "metadata": {},
   "source": [
    "A couple of notes about the tiling process:\n",
    "    \n",
    "- By default, uses a simple `Web Mercator Tiling Scheme (EPSG:3857)`\n",
    "- call `render_tiles` with the following arguments:\n",
    "\n",
    "```python\n",
    "extent_of_area_i_want_to_tile = (-500000, -500000, 500000, 500000)  # xmin, ymin, xmax, ymax\n",
    "render_tiles(extent_of_data_i_want_to_handle,\n",
    "             tile_levels=range(6),\n",
    "             output_path='example_tileset_output_directory',\n",
    "             load_data_func=function_which_returns_dataframe,\n",
    "             ds_pipeline_func=function_which_renders_dataframe_to_datashader_image,\n",
    "             post_render_func=function_which_post_processes_image)\n",
    "```\n",
    "\n",
    "- data representing x / y coordinates is assumed to be represented in meters (m) based on the Web Mercator coordinate system.\n",
    "- the tiling extent is subdivided into `supertiles` generally of size `4096 x 4096`\n",
    "- the `load_data_func` returns a dataframe-like object and contains your data access specific code.\n",
    "- the `ds_pipeline_func` returns a (agg, img) tuple and contains your datashader specific code.\n",
    "- the `post_render_func` is called once for each final tile (`default 256 x 256`) and contains PIL (Python Imaging Library) specific code.  This is the hook for adding additional filters, text, watermarks, etc. to output tiles.\n",
    "\n",
    "\n",
    "  "
   ]
  },
  {
   "cell_type": "markdown",
   "metadata": {},
   "source": [
    "## Creating Tile Component Functions"
   ]
  },
  {
   "cell_type": "markdown",
   "metadata": {},
   "source": [
    "### Create `load_data_func`\n",
    "- accepts `x_range` and `y_range` arguments which correspond to the ranges of the supertile being rendered.\n",
    "- returns a dataframe-like object (pd.Dataframe / dask.Dataframe)"
   ]
  },
  {
   "cell_type": "code",
   "execution_count": null,
   "metadata": {},
   "outputs": [],
   "source": [
    "import pandas as pd\n",
    "import numpy as np\n",
    "\n",
    "df = None\n",
    "def load_data_func(x_range, y_range):\n",
    "    global df\n",
    "    if df is None:\n",
    "        xs = np.random.normal(loc=0, scale=500000, size=10000000)\n",
    "        ys = np.random.normal(loc=0, scale=500000, size=10000000)\n",
    "        df = pd.DataFrame(dict(x=xs, y=ys))\n",
    "\n",
    "    return df.loc[df['x'].between(*x_range) & df['y'].between(*y_range)]"
   ]
  },
  {
   "cell_type": "markdown",
   "metadata": {},
   "source": [
    "### Create `ds_pipeline_func`\n",
    "\n",
    "- accepts `df`, `x_range`, `y_range`, `plot_height`, `plot_width`, `span` arguments which correspond to the data, ranges, and plot dimensions of the supertile being rendered.  The `span` argument can be forwarded on to `transfer_functions.shade` to disable color auto-ranging and set a fixed min/max for interpolating color values.\n",
    "- returns a tuple of aggregate `(xr.DataArray)` and image `(datashader.Image)`\n",
    "- The return aggregate can be used for stats sampling"
   ]
  },
  {
   "cell_type": "code",
   "execution_count": null,
   "metadata": {},
   "outputs": [],
   "source": [
    "import datashader as ds\n",
    "import datashader.transfer_functions as tf\n",
    "from datashader.colors import viridis\n",
    "\n",
    "def ds_pipeline_func(df, x_range, y_range, plot_height, plot_width, span=None):\n",
    "    \n",
    "    # aggregate\n",
    "    cvs = ds.Canvas(x_range=x_range, y_range=y_range,\n",
    "                    plot_height=plot_height, plot_width=plot_width)\n",
    "    agg = cvs.points(df, 'x', 'y')\n",
    "    \n",
    "    # shade\n",
    "    img = tf.shade(agg, cmap=viridis, span=span)\n",
    "    img = tf.set_background(img, 'black')\n",
    "    return agg, img"
   ]
  },
  {
   "cell_type": "markdown",
   "metadata": {},
   "source": [
    "### Create `post_render_func`\n",
    "- accepts `img `, `extras` arguments which correspond to the output PIL.Image before it is write to disk (or S3), and addtional image properties.\n",
    "- returns image `(PIL.Image)`\n",
    "- this is a good place to run any non-datashader-specific logic on each output tile."
   ]
  },
  {
   "cell_type": "code",
   "execution_count": null,
   "metadata": {},
   "outputs": [],
   "source": [
    "from PIL import Image\n",
    "from PIL import ImageDraw\n",
    "from PIL import ImageFont\n",
    "from PIL import ImageFilter\n",
    "\n",
    "def post_render_func(img, extras):\n",
    "    info = \"x={} / y={} / z={} / w={} / h={}\".format(extras['x'], extras['y'], extras['z'],\n",
    "                                                     img.width, img.height)\n",
    "\n",
    "    draw = ImageDraw.Draw(img)\n",
    "    draw.text((5, 5), info, fill='rgb(255, 255, 255)')\n",
    "    return img.filter(ImageFilter.CONTOUR)"
   ]
  },
  {
   "cell_type": "markdown",
   "metadata": {},
   "source": [
    "### Call `render_tiles`"
   ]
  },
  {
   "cell_type": "code",
   "execution_count": null,
   "metadata": {},
   "outputs": [],
   "source": [
    "full_extent_of_data = (-500000, -500000, 500000, 500000)\n",
    "output_path = 'test_tiles_output'\n",
    "results = render_tiles(full_extent_of_data,\n",
    "                        range(12),\n",
    "                        load_data_func=load_data_func,\n",
    "                        ds_pipeline_func=ds_pipeline_func,\n",
    "                        post_render_func=post_render_func,\n",
    "                        output_path=output_path)"
   ]
  },
  {
   "cell_type": "markdown",
   "metadata": {},
   "source": [
    "### Preview the tileset using Bokeh"
   ]
  },
  {
   "cell_type": "code",
   "execution_count": null,
   "metadata": {},
   "outputs": [],
   "source": [
    "from bokeh.plotting import figure\n",
    "from bokeh.models.tiles import WMTSTileSource\n",
    "from bokeh.io import show\n",
    "from bokeh.io import output_notebook\n",
    "from bokeh.models import Button\n",
    "from bokeh.models import CustomJS, Button\n",
    "from bokeh.models import BoxZoomTool\n",
    "from bokeh.layouts import widgetbox, column\n",
    "\n",
    "output_notebook()\n",
    "\n",
    "width = 800\n",
    "height = 800\n",
    "\n",
    "xmin, ymin, xmax, ymax = full_extent_of_data\n",
    "\n",
    "p = figure(width=width, height=height, \n",
    "           x_range=(int(-20e6), int(20e6)),\n",
    "           y_range=(int(-20e6), int(20e6)),\n",
    "           tools=\"pan,wheel_zoom,reset\")\n",
    "\n",
    "p.axis.visible = False\n",
    "p.add_tools(BoxZoomTool(match_aspect=True))\n",
    "p.add_tile(WMTSTileSource(url=\"http://localhost:8080/{Z}/{X}/{Y}.png\"))\n",
    "show(p)"
   ]
  }
 ],
 "metadata": {
  "kernelspec": {
   "display_name": "Python 3",
   "language": "python",
   "name": "python3"
  },
  "language_info": {
   "codemirror_mode": {
    "name": "ipython",
    "version": 3
   },
   "file_extension": ".py",
   "mimetype": "text/x-python",
   "name": "python",
   "nbconvert_exporter": "python",
   "pygments_lexer": "ipython3",
   "version": "3.7.0"
  }
 },
 "nbformat": 4,
 "nbformat_minor": 2
}
